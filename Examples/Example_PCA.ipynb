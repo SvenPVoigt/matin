{
 "cells": [
  {
   "cell_type": "code",
   "execution_count": null,
   "metadata": {
    "collapsed": true
   },
   "outputs": [],
   "source": [
    "import numpy as np\n",
    "from sklearn.decomposition import PCA\n",
    "import CorrMaster_Sven_v02 as cms\n",
    "import matplotlib.pyplot as plt\n",
    "from mpl_toolkits.mplot3d import Axes3D\n",
    "from matplotlib.markers import MarkerStyle\n",
    "\n",
    "def plotPC(pcScores, toPlot = (0,1,2)):\n",
    "    fig = plt.figure(figsize = (16,7))\n",
    "    ax = fig.gca(projection='3d')\n",
    "    ax.set_aspect('equal')\n",
    "\n",
    "    X = pcScores[:,toPlot[0]]\n",
    "    Y = pcScores[:,toPlot[1]]\n",
    "    Z = pcScores[:,toPlot[2]]\n",
    "    \n",
    "    colors = plt.cm.tab20(range(len(X)))\n",
    "    #fills = ['bottom','left','top','right','top']\n",
    "    sizes = [400] * len(X) - np.linspace(1,350,num = len(X))\n",
    "    for i in range(len(X)):\n",
    "        ax.scatter(X[i], Y[i], Z[i], color=colors[i%20,:], label = ('MS ' + str(i + 1)), s = sizes[i]) \n",
    "                   #marker = MarkerStyle(marker = 'o', fillstyle = fills[i%5]))\n",
    "    \n",
    "    # Create cubic bounding box to simulate equal aspect ratio\n",
    "    max_range = np.array([X.max()-X.min(), Y.max()-Y.min(), Z.max()-Z.min()]).max()\n",
    "    Xb = 0.5*max_range*np.mgrid[-1:2:2,-1:2:2,-1:2:2][0].flatten() + 0.5*(X.max()+X.min())\n",
    "    Yb = 0.5*max_range*np.mgrid[-1:2:2,-1:2:2,-1:2:2][1].flatten() + 0.5*(Y.max()+Y.min())\n",
    "    Zb = 0.5*max_range*np.mgrid[-1:2:2,-1:2:2,-1:2:2][2].flatten() + 0.5*(Z.max()+Z.min())\n",
    "    # Comment or uncomment following both lines to test the fake bounding box:\n",
    "    #for xb, yb, zb in zip(Xb, Yb, Zb):\n",
    "    #    ax.plot([xb], [yb], [zb], 'w')\n",
    "    \n",
    "    ax.legend(loc = 2)\n",
    "    \n",
    "    ax.set_xlabel('PC' + str(toPlot[0] + 1))\n",
    "    ax.set_ylabel('PC' + str(toPlot[1] + 1))\n",
    "    ax.set_zlabel('PC' + str(toPlot[2] + 1))\n",
    "    \n",
    "    plt.grid()\n",
    "    \n",
    "    plt.show()\n",
    "    \n",
    "def reshapeAutoCross(x, dim, reshype = 'cross'):\n",
    "    if reshype is 'cross':\n",
    "        return np.reshape(x, (dim,dim,dim))\n",
    "    elif reshype is 'auto':\n",
    "        ind = ((dim**3) // 2)\n",
    "        x = np.concatenate((x[:ind],(x[ind],),np.flip(x[:ind], axis = 0)))\n",
    "        return np.reshape(x, (dim,dim,dim))\n",
    "\n",
    "    \n",
    "indAuto = 113491\n",
    "indCross = 226981\n",
    "\n",
    "diskMask = np.memmap('ImgData/SandiaIndexed/convM.npy', dtype = np.float32, mode = 'r+', shape = (55,indAuto))\n",
    "memMask = diskMask[:,:]\n",
    "del(diskMask)\n",
    "memMask = np.concatenate((memMask[:,:113490],np.reshape(memMask[:,113490], (55,1)),\n",
    "                         np.flip(memMask[:,:113490], axis = 0)), axis = 1)\n",
    "\n",
    "\n",
    "diskConv00 = np.memmap('ImgData/SandiaIndexed/conv00.npy', dtype = np.float32, mode = 'r+', shape = (55,indAuto))\n",
    "diskConv11 = np.memmap('ImgData/SandiaIndexed/conv11.npy', dtype = np.float32, mode = 'r+', shape = (55,indAuto))\n",
    "diskConv22 = np.memmap('ImgData/SandiaIndexed/conv22.npy', dtype = np.float32, mode = 'r+', shape = (55,indAuto))\n",
    "diskConv01 = np.memmap('ImgData/SandiaIndexed/conv01.npy', dtype = np.float32, mode = 'r+', shape = (55,indCross))\n",
    "diskConv02 = np.memmap('ImgData/SandiaIndexed/conv02.npy', dtype = np.float32, mode = 'r+', shape = (55,indCross))\n",
    "diskConv12 = np.memmap('ImgData/SandiaIndexed/conv12.npy', dtype = np.float32, mode = 'r+', shape = (55,indCross))\n",
    "\n",
    "# memConv = diskConv02[:,:]\n",
    "# memConv = np.concatenate((diskConv00,diskConv11,diskConv22,diskConv01,diskConv02,diskConv12), axis = 1)\n",
    "memConv = np.concatenate((diskConv00/memMask[:,:indAuto],diskConv11/memMask[:,:indAuto],\n",
    "                          diskConv22/memMask[:,:indAuto],\n",
    "                          diskConv01/memMask[:,:],diskConv02/memMask[:,:],diskConv12/memMask[:,:]), axis = 1)\n",
    "\n",
    "print(memConv.shape)\n",
    "\n",
    "del(diskConv00)\n",
    "del(diskConv11)\n",
    "del(diskConv22)\n",
    "del(diskConv01)\n",
    "del(diskConv02)\n",
    "del(diskConv12)\n",
    "\n",
    "pca = PCA(n_components=55)\n",
    "pca.fit(memConv)\n",
    "X_red = pca.transform(memConv)"
   ]
  },
  {
   "cell_type": "code",
   "execution_count": null,
   "metadata": {
    "collapsed": true
   },
   "outputs": [],
   "source": [
    "stats00 = reshapeAutoCross(memConv[0,:indCross], 61, reshype = 'cross')\n",
    "mask = reshapeAutoCross(memMask[0,:], 61, reshype = 'auto')\n",
    "cms.printStatsInfo(stats00)\n",
    "cms.plot3DStats(stats00/np.max(stats00), cutoff=30)\n",
    "cms.plot3DStats(mask/np.max(mask), cutoff=30)\n",
    "cms.plot3DStats(stats00/mask, cutoff=30)"
   ]
  },
  {
   "cell_type": "code",
   "execution_count": null,
   "metadata": {
    "collapsed": true
   },
   "outputs": [],
   "source": [
    "from scipy.io import loadmat\n",
    "\n",
    "checkStat = loadmat('Matlab/stats02.mat')['stats02']\n",
    "\n",
    "print(checkStat.shape)\n",
    "\n",
    "checkPy = stats00/mask\n",
    "\n",
    "print(np.allclose(np.around(checkPy,5),np.around(checkStat,5)))\n",
    "\n",
    "cms.plot3DStats(checkStat, cutoff=30)\n",
    "cms.plot3DStats(checkPy, cutoff=30)"
   ]
  },
  {
   "cell_type": "code",
   "execution_count": null,
   "metadata": {
    "collapsed": true
   },
   "outputs": [],
   "source": [
    "pcEig = 1\n",
    "\n",
    "PC1eig00 = reshapeAutoCross(pca.components_[pcEig,:indAuto], 61, reshype = 'auto')\n",
    "PC1eig11 = reshapeAutoCross(pca.components_[pcEig,indAuto:2*indAuto], 61, reshype = 'auto')\n",
    "PC1eig22 = reshapeAutoCross(pca.components_[pcEig,2*indAuto:3*indAuto], 61, reshype = 'auto')\n",
    "PC1eig01 = reshapeAutoCross(pca.components_[pcEig,3*indAuto:3*indAuto + indCross], 61, reshype = 'cross')\n",
    "PC1eig02 = reshapeAutoCross(pca.components_[pcEig,3*indAuto+indCross:3*indAuto+2*indCross], 61, reshype = 'cross')\n",
    "PC1eig12 = reshapeAutoCross(pca.components_[pcEig,3*indAuto+2*indCross:3*indAuto+3*indCross], 61, reshype = 'cross')\n",
    "\n",
    "#PC2eig00 = reshapeAutoCross(pca.components_[1,:indAuto], 61, reshype = 'auto')\n",
    "\n",
    "#PC3eig00 = reshapeAutoCross(pca.components_[2,:indAuto], 61, reshype = 'auto')\n",
    "\n",
    "cms.plot3DStats(PC1eig00/np.max(abs(PC1eig00)), cutoff=30)\n",
    "cms.plot3DStats(PC1eig11/np.max(abs(PC1eig11)), cutoff=30)\n",
    "cms.plot3DStats(PC1eig22/np.max(abs(PC1eig22)), cutoff=30)\n",
    "cms.plot3DStats(PC1eig01/np.max(abs(PC1eig01)), cutoff=30)\n",
    "cms.plot3DStats(PC1eig02/np.max(abs(PC1eig02)), cutoff=30)\n",
    "cms.plot3DStats(PC1eig12/np.max(abs(PC1eig12)), cutoff=30)\n",
    "cms.plot3DStats(PC2eig00/np.max(abs(PC2eig00)), cutoff=30)\n",
    "cms.plot3DStats(PC3eig00/np.max(abs(PC3eig00)), cutoff=30)"
   ]
  },
  {
   "cell_type": "code",
   "execution_count": null,
   "metadata": {
    "collapsed": true
   },
   "outputs": [],
   "source": [
    "plotPC(X_red, toPlot = (0,1,2))\n",
    "plotPC(X_red, toPlot = (3,4,5))\n",
    "plotPC(X_red, toPlot = (6,7,8))\n",
    "plotPC(X_red, toPlot = (9,10,11))"
   ]
  },
  {
   "cell_type": "code",
   "execution_count": null,
   "metadata": {
    "collapsed": true
   },
   "outputs": [],
   "source": [
    "samples = ['A15', 'A16', 'A17', 'A18', 'A19',\n",
    "           'B13', 'B14', 'B15', 'B16', 'B17', 'B18', 'B19',\n",
    "           'C08', 'C09', 'C10', 'C11', 'C12', 'C13', 'C14', 'C15', 'C16', 'C17', 'C18', 'C19',\n",
    "           'D08', 'D09', 'D10', 'D11', 'D12', 'D13', 'D14', 'D15', 'D16', 'D17', 'D18', 'D19',\n",
    "           'E08', 'E09', 'E10', 'E11', 'E12', 'E13', 'E14', 'E15', 'E16', 'E17', 'E18', 'E19',\n",
    "           'F08', 'F09', 'F10', 'F11', 'F12', 'F13', 'F14']\n",
    "\n",
    "import pandas as pan\n",
    "\n",
    "pcDF = pan.DataFrame({'Samples': samples})#, 'PC1': X_red[:,0]})\n",
    "\n",
    "for i in range(X_red.shape[1]):\n",
    "    name = 'PC' + str(i + 1)\n",
    "    pcDF[name] = X_red[:,i]\n",
    "        \n",
    "propertyDF = pan.read_csv('propertyData.csv')\n",
    "propertyDF = propertyDF[['Serial_ColRow', '05yield_UnloadingMod_Mpa', 'Modulus_unloading_Gpa',\n",
    "                         'Strength_ultimate_Mpa', 'Ductility_Percent']]\n",
    "propertyDF = propertyDF.rename(index = str, columns = {'Serial_ColRow': 'Samples'})\n",
    "\n",
    "pcPropDF = pan.merge(propertyDF, pcDF, on = 'Samples')\n",
    "pcPropDF.columns.values"
   ]
  },
  {
   "cell_type": "code",
   "execution_count": null,
   "metadata": {
    "collapsed": true
   },
   "outputs": [],
   "source": [
    "#prop = 'Ductility_Percent'\n",
    "prop = '05yield_UnloadingMod_Mpa'\n",
    "#prop = 'Modulus_unloading_Gpa'\n",
    "\n",
    "ax = pcPropDF.plot(kind='scatter', x='PC1', y='PC2', c=prop,\n",
    "                   s=50, figsize = (7,7), colormap = 'hot', sharex = False)\n",
    "plt.show()\n",
    "\n",
    "ax = pcPropDF.plot(kind='scatter', x='PC3', y='PC4', c=prop,\n",
    "                   s=50, figsize = (7,7), colormap = 'hot', sharex = False)\n",
    "plt.show()\n",
    "\n",
    "ax = pcPropDF.plot(kind='scatter', x='PC5', y='PC6', c=prop,\n",
    "                   s=50, figsize = (7,7), colormap = 'hot', sharex = False)\n",
    "plt.show()"
   ]
  },
  {
   "cell_type": "code",
   "execution_count": null,
   "metadata": {
    "collapsed": true
   },
   "outputs": [],
   "source": [
    "ax = pcPropDF.corr()[['Ductility_Percent']].plot()\n",
    "plt.show()\n",
    "\n",
    "ax = pcPropDF.corr()[['05yield_UnloadingMod_Mpa']].plot()\n",
    "plt.show()\n",
    "\n",
    "ax = pcPropDF.corr()[['Modulus_unloading_Gpa']].plot()\n",
    "plt.show()"
   ]
  },
  {
   "cell_type": "code",
   "execution_count": null,
   "metadata": {
    "collapsed": true
   },
   "outputs": [],
   "source": [
    "from sklearn import linear_model\n",
    "from sklearn.metrics import mean_squared_error, r2_score\n",
    "\n",
    "clm = linear_model.LinearRegression()\n",
    "\n",
    "#prop = 'Modulus_unloading_Gpa'\n",
    "\n",
    "oneProp = pcPropDF[[prop, 'PC1', 'PC2', 'PC3', 'PC4', 'PC5', 'PC6', 'PC7', 'PC8', 'PC9', 'PC10',\n",
    "                   'PC11', 'PC12', 'PC13', 'PC14', 'PC15', 'PC16', 'PC17', 'PC18', 'PC19', 'PC20',\n",
    "                   'PC21', 'PC22', 'PC23', 'PC24', 'PC25', 'PC26', 'PC27', 'PC28',\n",
    "                   'PC29', 'PC30']]#, 'PC31', 'PC32', 'PC33', 'PC34', 'PC35', 'PC36',\n",
    "#                    'PC37', 'PC38', 'PC39', 'PC40', 'PC41', 'PC42', 'PC43', 'PC44',\n",
    "#                    'PC45', 'PC46', 'PC47', 'PC48', 'PC49', 'PC50', 'PC51', 'PC52',\n",
    "#                    'PC53', 'PC54', 'PC55']]\n",
    "\n",
    "oneProp = oneProp.sample(frac=1, random_state = 10)\n",
    "\n",
    "\n",
    "trainSize = 30\n",
    "\n",
    "train = abs(oneProp.as_matrix()[:trainSize, :])\n",
    "test = abs(oneProp.as_matrix()[trainSize:, :])\n",
    "\n",
    "clm.fit(train[:,1:], train[:,0])"
   ]
  },
  {
   "cell_type": "code",
   "execution_count": null,
   "metadata": {
    "collapsed": true
   },
   "outputs": [],
   "source": [
    "fig = plt.figure(figsize = (12,8))\n",
    "ax = fig.gca()\n",
    "ax.scatter(train[:,0], clm.predict(train[:,1:]), color='black', \n",
    "            label = 'Train on %d samples'%trainSize)\n",
    "ax.scatter(test[:,0], clm.predict(test[:,1:]), color='red', \n",
    "         label = 'Test on %d samples'%(55-trainSize))\n",
    "\n",
    "minProp = oneProp[[prop]].min().item()\n",
    "maxProp = oneProp[[prop]].max().item()\n",
    "\n",
    "ax.plot(np.linspace(minProp,maxProp), \n",
    "         np.linspace(minProp,maxProp), color='blue', linewidth=3)\n",
    "         \n",
    "ax.legend(fontsize = 18)\n",
    "\n",
    "ax.set_xlabel('Actual', fontsize = 20)\n",
    "ax.set_ylabel('Predicted', fontsize = 20)\n",
    "ax.set_title(prop, fontsize = 24)\n",
    "ax.text(s = 'R2 on test = ' + str(round(r2_score(test[:,0],clm.predict(test[:,1:])),2)), \n",
    "        y = 0.07, x = 0.77, fontsize = 20,  horizontalalignment='center', verticalalignment='center',\n",
    "        transform=ax.transAxes)\n",
    "plt.show()"
   ]
  },
  {
   "cell_type": "code",
   "execution_count": null,
   "metadata": {
    "collapsed": true
   },
   "outputs": [],
   "source": []
  }
 ],
 "metadata": {
  "kernelspec": {
   "display_name": "Python 3",
   "language": "python",
   "name": "python3"
  },
  "language_info": {
   "codemirror_mode": {
    "name": "ipython",
    "version": 3
   },
   "file_extension": ".py",
   "mimetype": "text/x-python",
   "name": "python",
   "nbconvert_exporter": "python",
   "pygments_lexer": "ipython3",
   "version": "3.6.1"
  }
 },
 "nbformat": 4,
 "nbformat_minor": 2
}
